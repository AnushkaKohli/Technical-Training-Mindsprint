{
 "cells": [
  {
   "cell_type": "code",
   "execution_count": 24,
   "metadata": {},
   "outputs": [
    {
     "name": "stdout",
     "output_type": "stream",
     "text": [
      "[10, 20, 30, 40, 50]\n",
      "3rd element: 40\n",
      "[10, 20, 25, 30, 40, 50, 60]\n",
      "Length: 7\n",
      "Minimum value: 10\n",
      "Maximum value: 60\n",
      "Sum value: 235\n",
      "List after adding 3 elements:  [10, 20, 25, 30, 40, 50, 60, 50, 60, 70]\n",
      "List after ypdating 5th element:  [10, 20, 25, 30, 35, 50, 60, 50, 60, 70]\n"
     ]
    }
   ],
   "source": [
    "# List\n",
    "myList = [10, 20, 30, 40, 50]\n",
    "print(myList)\n",
    "print(\"3rd element:\", myList[3])\n",
    "myList.append(60) \n",
    "# insert element at given index\n",
    "myList.insert(2, 25)\n",
    "print(myList)\n",
    "print(\"Length:\", len(myList))\n",
    "print(\"Minimum value:\", min(myList))\n",
    "print(\"Maximum value:\", max(myList))\n",
    "print(\"Sum value:\", sum(myList))\n",
    "# Adding elements in the end\n",
    "myList.extend([50, 60, 70])\n",
    "print(\"List after adding 3 elements: \", myList)\n",
    "# Updating element\n",
    "myList[4] = 35\n",
    "print(\"List after ypdating 5th element: \", myList)\n"
   ]
  },
  {
   "cell_type": "code",
   "execution_count": 26,
   "metadata": {},
   "outputs": [
    {
     "name": "stdout",
     "output_type": "stream",
     "text": [
      "Current list:  [10, 20, 25, 30, 35, 50, 60, 50, 60, 70]\n",
      "70 removed\n",
      "35 removed\n",
      "List after removing 35 and 70:  [10, 20, 25, 30, 50, 60, 50, 60]\n",
      "List after removing 25:  [10, 20, 30, 50, 60, 50, 60]\n",
      "List after removing 1st element:  [10, 30, 50, 60, 50, 60]\n",
      "List after clearing:  []\n"
     ]
    },
    {
     "ename": "NameError",
     "evalue": "name 'myList' is not defined",
     "output_type": "error",
     "traceback": [
      "\u001b[1;31m---------------------------------------------------------------------------\u001b[0m",
      "\u001b[1;31mNameError\u001b[0m                                 Traceback (most recent call last)",
      "Cell \u001b[1;32mIn[26], line 20\u001b[0m\n\u001b[0;32m     18\u001b[0m \u001b[38;5;66;03m# Deletes the entire list\u001b[39;00m\n\u001b[0;32m     19\u001b[0m \u001b[38;5;28;01mdel\u001b[39;00m myList\n\u001b[1;32m---> 20\u001b[0m \u001b[38;5;28mprint\u001b[39m (\u001b[38;5;124m\"\u001b[39m\u001b[38;5;124mList after deleting the list: \u001b[39m\u001b[38;5;124m\"\u001b[39m, \u001b[43mmyList\u001b[49m)\n\u001b[0;32m     21\u001b[0m \u001b[38;5;28mprint\u001b[39m(\u001b[38;5;124m\"\u001b[39m\u001b[38;5;124m25 is in my list:\u001b[39m\u001b[38;5;124m\"\u001b[39m, \u001b[38;5;241m25\u001b[39m \u001b[38;5;129;01min\u001b[39;00m myList)\n",
      "\u001b[1;31mNameError\u001b[0m: name 'myList' is not defined"
     ]
    }
   ],
   "source": [
    "# Data removal - removes data as well as provides the data to store in some variable\n",
    "myList = [10, 20, 25, 30, 35, 50, 60, 50, 60, 70]\n",
    "print(\"Current list: \", myList)\n",
    "print(myList.pop(), \"removed\")\n",
    "# pop removes last element by default but if you mention an index, it will delete the element on that index\n",
    "data = myList.pop(4)\n",
    "print(data, \"removed\")\n",
    "print(\"List after removing 35 and 70: \", myList)\n",
    "# Removes a specific element\n",
    "myList.remove(25)\n",
    "print(\"List after removing 25: \", myList)\n",
    "# Deletes element at given index\n",
    "del myList[1]\n",
    "print(\"List after removing 1st element: \", myList)\n",
    "# Clears the list\n",
    "myList.clear()\n",
    "print (\"List after clearing: \", myList)\n",
    "# Deletes the entire list\n",
    "del myList\n",
    "print (\"List after deleting the list: \", myList)\n",
    "print(\"25 is in my list:\", 25 in myList)"
   ]
  },
  {
   "cell_type": "code",
   "execution_count": 31,
   "metadata": {},
   "outputs": [
    {
     "name": "stdout",
     "output_type": "stream",
     "text": [
      "List after sorting (ascending):  [10, 20, 25, 30, 35, 50, 50, 60, 60, 70]\n",
      "List after sorting (descending):  [70, 60, 60, 50, 50, 35, 30, 25, 20, 10]\n",
      "copy_numbers list:  [70, 60, 60, 50, 50, 35, 30, 25, 20, 10]\n",
      "Squares list:  [1, 4, 9, 16, 25]\n"
     ]
    }
   ],
   "source": [
    "myList = [10, 20, 25, 30, 35, 50, 60, 50, 60, 70]\n",
    "# Sorting\n",
    "myList.sort()\n",
    "print(\"List after sorting (ascending): \", myList)\n",
    "myList.sort(reverse=True)\n",
    "print(\"List after sorting (descending): \", myList)\n",
    "\n",
    "# Copy List\n",
    "copy_numbers = myList.copy()\n",
    "print(\"copy_numbers list: \", copy_numbers)\n",
    "\n",
    "# Short way to create a list\n",
    "squares = [x ** 2 for x in range(1, 6)]\n",
    "print(\"Squares list: \", squares)"
   ]
  }
 ],
 "metadata": {
  "kernelspec": {
   "display_name": "Python 3",
   "language": "python",
   "name": "python3"
  },
  "language_info": {
   "codemirror_mode": {
    "name": "ipython",
    "version": 3
   },
   "file_extension": ".py",
   "mimetype": "text/x-python",
   "name": "python",
   "nbconvert_exporter": "python",
   "pygments_lexer": "ipython3",
   "version": "3.13.2"
  }
 },
 "nbformat": 4,
 "nbformat_minor": 2
}
