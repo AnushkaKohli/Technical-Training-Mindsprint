{
 "cells": [
  {
   "cell_type": "code",
   "execution_count": 1,
   "metadata": {},
   "outputs": [],
   "source": [
    "# Initialize data structures\n",
    "movies = [\n",
    "    {\"title\": \"Inception\", \"genre\": \"Sci-Fi\", \"showtime\": \"18:00\"},\n",
    "    {\"title\": \"Titanic\", \"genre\": \"Romance\", \"showtime\": \"20:00\"}\n",
    "]\n",
    "\n",
    "theaters = {\"Theater 1\", \"Theater 2\"}\n",
    "\n",
    "ticket_pricing = (10.0, 12.5, 15.0)  # Prices for different seat categories\n",
    "\n",
    "customers = {\n",
    "    \"Alice\": [\"Inception\"],\n",
    "    \"Bob\": []\n",
    "}"
   ]
  },
  {
   "cell_type": "code",
   "execution_count": 2,
   "metadata": {},
   "outputs": [
    {
     "name": "stdout",
     "output_type": "stream",
     "text": [
      "Movie 'Avatar' added successfully.\n"
     ]
    }
   ],
   "source": [
    "# Function to add a new movie\n",
    "def add_movie(title, genre, showtime):\n",
    "    new_movie = {\"title\": title, \"genre\": genre, \"showtime\": showtime}\n",
    "    movies.append(new_movie)\n",
    "    print(f\"Movie '{title}' added successfully.\")\n",
    "add_movie(\"Avatar\", \"Action\", \"22:00\")"
   ]
  },
  {
   "cell_type": "code",
   "execution_count": 3,
   "metadata": {},
   "outputs": [
    {
     "name": "stdout",
     "output_type": "stream",
     "text": [
      "Movie 'Titanic' removed successfully.\n"
     ]
    }
   ],
   "source": [
    "# Function to remove a movie\n",
    "def remove_movie(title):\n",
    "    global movies\n",
    "    movies = [movie for movie in movies if movie[\"title\"] != title]\n",
    "    print(f\"Movie '{title}' removed successfully.\")\n",
    "remove_movie(\"Titanic\")"
   ]
  },
  {
   "cell_type": "code",
   "execution_count": 4,
   "metadata": {},
   "outputs": [
    {
     "name": "stdout",
     "output_type": "stream",
     "text": [
      "Theater 'Theater 3' added successfully.\n"
     ]
    }
   ],
   "source": [
    "# Function to add a new theater\n",
    "def add_theater(theater_name):\n",
    "    theaters.add(theater_name)\n",
    "    print(f\"Theater '{theater_name}' added successfully.\")\n",
    "add_theater(\"Theater 3\")"
   ]
  },
  {
   "cell_type": "code",
   "execution_count": 6,
   "metadata": {},
   "outputs": [
    {
     "name": "stdout",
     "output_type": "stream",
     "text": [
      "Customer 'Charlie' already exists.\n"
     ]
    }
   ],
   "source": [
    "# Function to add a new customer\n",
    "def add_customer(name):\n",
    "    if name not in customers:\n",
    "        customers[name] = []\n",
    "        print(f\"Customer '{name}' added successfully.\")\n",
    "    else:\n",
    "        print(f\"Customer '{name}' already exists.\")\n",
    "add_customer(\"Charlie\")"
   ]
  },
  {
   "cell_type": "code",
   "execution_count": 7,
   "metadata": {},
   "outputs": [
    {
     "name": "stdout",
     "output_type": "stream",
     "text": [
      "Movie 'Avatar' booked for customer 'Charlie'.\n"
     ]
    }
   ],
   "source": [
    "# Function to book a movie ticket for a customer\n",
    "def book_movie_ticket(customer_name, movie_title):\n",
    "    if customer_name in customers:\n",
    "        customers[customer_name].append(movie_title)\n",
    "        print(f\"Movie '{movie_title}' booked for customer '{customer_name}'.\")\n",
    "    else:\n",
    "        print(f\"Customer '{customer_name}' does not exist.\")\n",
    "book_movie_ticket(\"Charlie\", \"Avatar\")"
   ]
  },
  {
   "cell_type": "code",
   "execution_count": 8,
   "metadata": {},
   "outputs": [
    {
     "name": "stdout",
     "output_type": "stream",
     "text": [
      "\n",
      "Movies:\n",
      "{'title': 'Inception', 'genre': 'Sci-Fi', 'showtime': '18:00'}\n",
      "{'title': 'Avatar', 'genre': 'Action', 'showtime': '22:00'}\n",
      "\n",
      "Theaters:\n",
      "Theater 3\n",
      "Theater 1\n",
      "Theater 2\n",
      "\n",
      "Ticket Pricing:\n",
      "(10.0, 12.5, 15.0)\n",
      "\n",
      "Customer Bookings:\n",
      "Alice: ['Inception']\n",
      "Bob: []\n",
      "Charlie: ['Avatar']\n"
     ]
    }
   ],
   "source": [
    "# Function to print all movies, theaters, ticket pricing, and customer bookings\n",
    "def print_all_data():\n",
    "    print(\"\\nMovies:\")\n",
    "    for movie in movies:\n",
    "        print(movie)\n",
    "    \n",
    "    print(\"\\nTheaters:\")\n",
    "    for theater in theaters:\n",
    "        print(theater)\n",
    "    \n",
    "    print(\"\\nTicket Pricing:\")\n",
    "    print(ticket_pricing)\n",
    "    \n",
    "    print(\"\\nCustomer Bookings:\")\n",
    "    for customer, booked_movies in customers.items():\n",
    "        print(f\"{customer}: {booked_movies}\")\n",
    "print_all_data()"
   ]
  },
  {
   "cell_type": "code",
   "execution_count": null,
   "metadata": {},
   "outputs": [],
   "source": []
  }
 ],
 "metadata": {
  "kernelspec": {
   "display_name": "Python 3",
   "language": "python",
   "name": "python3"
  },
  "language_info": {
   "codemirror_mode": {
    "name": "ipython",
    "version": 3
   },
   "file_extension": ".py",
   "mimetype": "text/x-python",
   "name": "python",
   "nbconvert_exporter": "python",
   "pygments_lexer": "ipython3",
   "version": "3.13.2"
  }
 },
 "nbformat": 4,
 "nbformat_minor": 2
}
