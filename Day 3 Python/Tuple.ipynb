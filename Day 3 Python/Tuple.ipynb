{
 "cells": [
  {
   "cell_type": "code",
   "execution_count": 3,
   "metadata": {},
   "outputs": [
    {
     "name": "stdout",
     "output_type": "stream",
     "text": [
      "('Apple', 'Banana', 'Watermelon')\n",
      "Banana\n",
      "Watermelon\n",
      "('Apple', 2, 33.1, ['hi', 'bye'])\n",
      "('Apple',)\n",
      "()\n"
     ]
    }
   ],
   "source": [
    "# Tuple\n",
    "# Creating a tuple\n",
    "fruits = (\"Apple\", \"Banana\", \"Watermelon\")\n",
    "print(fruits)\n",
    "# Accessing values\n",
    "print(fruits[1])\n",
    "print(fruits[-1])\n",
    "# Creating a tuple with different data types\n",
    "fruits = (\"Apple\", 2, 33.1, [\"hi\", \"bye\"])\n",
    "print(fruits)\n",
    "# Creating a tuple with single element - important to add a single comma else it will be a string\n",
    "fruits = (\"Apple\",)\n",
    "print(fruits)\n",
    "# Creating an empty tuple\n",
    "fruits = ()\n",
    "print(fruits)"
   ]
  },
  {
   "cell_type": "code",
   "execution_count": 5,
   "metadata": {},
   "outputs": [
    {
     "name": "stdout",
     "output_type": "stream",
     "text": [
      "(10, 20, 30, 40)\n"
     ]
    }
   ],
   "source": [
    "# Tuple is immutable but we can convert it to list, odify it and then again convert it into tuple\n",
    "# Convert tuple to list\n",
    "numbers_tuple = (10, 20, 30)\n",
    "numbers_list = list(numbers_tuple)\n",
    "\n",
    "# Modify the list\n",
    "numbers_list.append(40)\n",
    "\n",
    "# Convert back to tuple\n",
    "numbers_tuple = tuple(numbers_list)\n",
    "print(numbers_tuple)"
   ]
  },
  {
   "cell_type": "code",
   "execution_count": 11,
   "metadata": {},
   "outputs": [
    {
     "name": "stdout",
     "output_type": "stream",
     "text": [
      "Concatednated tuple:  (1, 2, 3, 4, 5, 6)\n",
      "Repeated tuple:  ('Python', 'Python', 'Python')\n",
      "Count of elements in result:  4\n",
      "Index of first occurrence of an element:  1\n"
     ]
    }
   ],
   "source": [
    "# Concatenation\n",
    "tuple1 = (1, 2, 3)\n",
    "tuple2 = (4, 5, 6)\n",
    "result = tuple1 + tuple2\n",
    "print(\"Concatednated tuple: \", result)\n",
    "\n",
    "# Repetition\n",
    "repeated_tuple = (\"Python\", ) * 3\n",
    "print(\"Repeated tuple: \", repeated_tuple)\n",
    "\n",
    "# Count occurences of a given element\n",
    "tuple = (1, 2, 3, 4, 2, 1, 2, 3, 8, 9, 2)\n",
    "print(\"Count of elements in result: \", tuple.count(2))\n",
    "\n",
    "# Get the index of first occurrence of an element\n",
    "print(\"Index of first occurrence of an element: \", tuple.index(2))\n"
   ]
  }
 ],
 "metadata": {
  "kernelspec": {
   "display_name": "Python 3",
   "language": "python",
   "name": "python3"
  },
  "language_info": {
   "codemirror_mode": {
    "name": "ipython",
    "version": 3
   },
   "file_extension": ".py",
   "mimetype": "text/x-python",
   "name": "python",
   "nbconvert_exporter": "python",
   "pygments_lexer": "ipython3",
   "version": "3.13.2"
  }
 },
 "nbformat": 4,
 "nbformat_minor": 2
}
