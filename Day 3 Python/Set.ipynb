{
 "cells": [
  {
   "cell_type": "code",
   "execution_count": 12,
   "metadata": {},
   "outputs": [
    {
     "name": "stdout",
     "output_type": "stream",
     "text": [
      "{403, 404, 500, 200, 302}\n",
      "403\n",
      "404\n",
      "500\n",
      "200\n",
      "302\n"
     ]
    }
   ],
   "source": [
    "# Set\n",
    "mySet = {404, 200, 500, 302, 403, 302}\n",
    "print(mySet)\n",
    "\n",
    "for num in mySet:\n",
    "    print(num)\n"
   ]
  },
  {
   "cell_type": "code",
   "execution_count": 13,
   "metadata": {},
   "outputs": [
    {
     "name": "stdout",
     "output_type": "stream",
     "text": [
      "My set after adding: {403, 404, 500, 501, 200, 302}\n",
      "My set after updating: {403, 404, 500, 501, 405, 200, 302, 303}\n",
      "My set after discarding: {403, 404, 500, 501, 405, 302, 303}\n"
     ]
    },
    {
     "ename": "KeyError",
     "evalue": "200",
     "output_type": "error",
     "traceback": [
      "\u001b[1;31m---------------------------------------------------------------------------\u001b[0m",
      "\u001b[1;31mKeyError\u001b[0m                                  Traceback (most recent call last)",
      "Cell \u001b[1;32mIn[13], line 12\u001b[0m\n\u001b[0;32m     10\u001b[0m \u001b[38;5;28mprint\u001b[39m(\u001b[38;5;124m\"\u001b[39m\u001b[38;5;124mMy set after discarding:\u001b[39m\u001b[38;5;124m\"\u001b[39m, mySet)\n\u001b[0;32m     11\u001b[0m \u001b[38;5;66;03m# Removing a particular value - If not found, gives error\u001b[39;00m\n\u001b[1;32m---> 12\u001b[0m \u001b[43mmySet\u001b[49m\u001b[38;5;241;43m.\u001b[39;49m\u001b[43mremove\u001b[49m\u001b[43m(\u001b[49m\u001b[38;5;241;43m200\u001b[39;49m\u001b[43m)\u001b[49m\n\u001b[0;32m     13\u001b[0m \u001b[38;5;28mprint\u001b[39m(\u001b[38;5;124m\"\u001b[39m\u001b[38;5;124mMy set after removing:\u001b[39m\u001b[38;5;124m\"\u001b[39m, mySet)\n",
      "\u001b[1;31mKeyError\u001b[0m: 200"
     ]
    }
   ],
   "source": [
    "# Adding an element\n",
    "mySet.add(501)\n",
    "print(\"My set after adding:\", mySet)\n",
    "mySet.update([303,405])\n",
    "print(\"My set after updating:\", mySet)\n",
    "\n",
    "# Removing an element\n",
    "# Discarding a particular value - If not found, does not give error\n",
    "mySet.discard(200)\n",
    "print(\"My set after discarding:\", mySet)\n",
    "# Removing a particular value - If not found, gives error\n",
    "mySet.remove(200)\n",
    "print(\"My set after removing:\", mySet)"
   ]
  },
  {
   "cell_type": "code",
   "execution_count": 18,
   "metadata": {},
   "outputs": [
    {
     "name": "stdout",
     "output_type": "stream",
     "text": [
      "My set after popping: {302, 303, 403, 404, 501, 500, 405}\n",
      "My set after clearing: set()\n"
     ]
    },
    {
     "ename": "NameError",
     "evalue": "name 'mySet' is not defined",
     "output_type": "error",
     "traceback": [
      "\u001b[1;31m---------------------------------------------------------------------------\u001b[0m",
      "\u001b[1;31mNameError\u001b[0m                                 Traceback (most recent call last)",
      "Cell \u001b[1;32mIn[18], line 12\u001b[0m\n\u001b[0;32m      9\u001b[0m \u001b[38;5;28mprint\u001b[39m(\u001b[38;5;124m\"\u001b[39m\u001b[38;5;124mMy set after clearing:\u001b[39m\u001b[38;5;124m\"\u001b[39m, mySet)\n\u001b[0;32m     11\u001b[0m \u001b[38;5;28;01mdel\u001b[39;00m mySet\n\u001b[1;32m---> 12\u001b[0m \u001b[38;5;28mprint\u001b[39m(\u001b[38;5;124m\"\u001b[39m\u001b[38;5;124mMy set after deleting:\u001b[39m\u001b[38;5;124m\"\u001b[39m, \u001b[43mmySet\u001b[49m)\n",
      "\u001b[1;31mNameError\u001b[0m: name 'mySet' is not defined"
     ]
    }
   ],
   "source": [
    "mySet = {403, 404, 500, 501, 405, 200, 302, 303}\n",
    "if len(mySet) > 0:\n",
    "    mySet.pop()\n",
    "    print(\"My set after popping:\", mySet)\n",
    "else:\n",
    "    print(\"Set is empty\")\n",
    "\n",
    "mySet.clear()\n",
    "print(\"My set after clearing:\", mySet)\n",
    "\n",
    "del mySet\n",
    "print(\"My set after deleting:\", mySet)"
   ]
  },
  {
   "cell_type": "code",
   "execution_count": null,
   "metadata": {},
   "outputs": [
    {
     "name": "stdout",
     "output_type": "stream",
     "text": [
      "{1, 2, 3, 4, 5, 6, 7, 8}\n",
      "{1, 2, 3, 4, 5, 6, 7, 8}\n",
      "{4, 5}\n",
      "{4, 5}\n",
      "{1, 2, 3}\n",
      "{1, 2, 3}\n",
      "{1, 2, 3, 6, 7, 8}\n",
      "{1, 2, 3, 6, 7, 8}\n"
     ]
    }
   ],
   "source": [
    "# Set operations\n",
    "A = {1, 2, 3, 4, 5}\n",
    "B = {4, 5, 6, 7, 8}\n",
    "\n",
    "# Union - Combine elements from both sets\n",
    "print(A | B)\n",
    "print(A.union(B))\n",
    "\n",
    "# Intersection - Common elements\n",
    "print(A & B)\n",
    "print(A.intersection(B))\n",
    "\n",
    "# Difference - Elements in A but not in B\n",
    "print(A - B)\n",
    "print(A.difference(B))\n",
    "\n",
    "# Symmetric Difference - Elements in either sets, but not in both\n",
    "print(A ^ B)\n",
    "print(A.symmetric_difference(B))"
   ]
  }
 ],
 "metadata": {
  "kernelspec": {
   "display_name": "Python 3",
   "language": "python",
   "name": "python3"
  },
  "language_info": {
   "codemirror_mode": {
    "name": "ipython",
    "version": 3
   },
   "file_extension": ".py",
   "mimetype": "text/x-python",
   "name": "python",
   "nbconvert_exporter": "python",
   "pygments_lexer": "ipython3",
   "version": "3.13.2"
  }
 },
 "nbformat": 4,
 "nbformat_minor": 2
}
