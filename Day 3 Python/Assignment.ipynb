{
 "cells": [
  {
   "cell_type": "code",
   "execution_count": 19,
   "metadata": {},
   "outputs": [
    {
     "name": "stdout",
     "output_type": "stream",
     "text": [
      "Please enter correct marks.\n"
     ]
    }
   ],
   "source": [
    "# Program to take marks as input from the user and assign grades\n",
    "marks = int(input (\"Enter your total marks: \"))\n",
    "if marks > 100 or marks < 0:\n",
    "    print(\"Please enter correct marks.\")\n",
    "elif marks >= 90:\n",
    "    print(\"Grade A\")\n",
    "elif marks >= 70:\n",
    "    print(\"Grade B\")\n",
    "elif marks >= 50:\n",
    "    print(\"Grade C\")\n",
    "else:\n",
    "    print(\"Fail\")"
   ]
  },
  {
   "cell_type": "code",
   "execution_count": 20,
   "metadata": {},
   "outputs": [
    {
     "name": "stdout",
     "output_type": "stream",
     "text": [
      "Positive even number\n"
     ]
    }
   ],
   "source": [
    "# Program to take a number as input and check its sign\n",
    "num = int(input (\"Enter a number: \"))\n",
    "if num > 0:\n",
    "    if num % 2 == 0:\n",
    "        print(\"Positive even number\")\n",
    "    else:\n",
    "        print(\"Positive odd number\")\n",
    "elif num == 0:\n",
    "    print(\"Zero\")\n",
    "else:\n",
    "    if num < -10:\n",
    "        print(\"It's a negative number and is less than -10\")\n",
    "    else:\n",
    "        print(\"Negative number\")"
   ]
  },
  {
   "cell_type": "code",
   "execution_count": 21,
   "metadata": {},
   "outputs": [
    {
     "name": "stdout",
     "output_type": "stream",
     "text": [
      "Congratualtions! You get 20% discount.\n",
      "Initial price: Rs. 700\n",
      "Discounted Price: Rs. 560.0\n",
      "You saved: Rs. 140.0\n",
      "Final price after adding 18% GST: Rs. 660.8\n"
     ]
    }
   ],
   "source": [
    "# Discount Calculator\n",
    "initialPrice = int(input (\"Enter the price: \"))\n",
    "discountedPrice = 0\n",
    "if initialPrice >= 500:\n",
    "    discountedPrice = .8 * initialPrice\n",
    "    print(\"Congratualtions! You get 20% discount.\")\n",
    "elif initialPrice >= 200:\n",
    "    discountedPrice = .9 * initialPrice\n",
    "    print(\"Congratualtions! You get 10% discount.\")\n",
    "else:\n",
    "    discountedPrice = initialPrice\n",
    "    print(\"Sorry! You don't get any discount. Add items worth Rs.\", (200-initialPrice), \"to get 10% discount.\")\n",
    "# Adding GST\n",
    "finalPrice = discountedPrice * 1.18\n",
    "print(\"Initial price: Rs.\", initialPrice)\n",
    "if discountedPrice != initialPrice:\n",
    "    print(\"Discounted Price: Rs.\", discountedPrice)\n",
    "    print(\"You saved: Rs.\", initialPrice - discountedPrice)\n",
    "print(\"Final price after adding 18% GST: Rs.\", finalPrice)\n"
   ]
  },
  {
   "cell_type": "code",
   "execution_count": 29,
   "metadata": {},
   "outputs": [
    {
     "ename": "ValueError",
     "evalue": "invalid literal for int() with base 10: ''",
     "output_type": "error",
     "traceback": [
      "\u001b[1;31m---------------------------------------------------------------------------\u001b[0m",
      "\u001b[1;31mValueError\u001b[0m                                Traceback (most recent call last)",
      "Cell \u001b[1;32mIn[29], line 1\u001b[0m\n\u001b[1;32m----> 1\u001b[0m num1 \u001b[38;5;241m=\u001b[39m \u001b[38;5;28;43mint\u001b[39;49m\u001b[43m(\u001b[49m\u001b[38;5;28;43minput\u001b[39;49m\u001b[43m(\u001b[49m\u001b[38;5;124;43m\"\u001b[39;49m\u001b[38;5;124;43mEnter the first number: \u001b[39;49m\u001b[38;5;124;43m\"\u001b[39;49m\u001b[43m)\u001b[49m\u001b[43m)\u001b[49m\n\u001b[0;32m      2\u001b[0m num2 \u001b[38;5;241m=\u001b[39m \u001b[38;5;28mint\u001b[39m(\u001b[38;5;28minput\u001b[39m(\u001b[38;5;124m\"\u001b[39m\u001b[38;5;124mEnter the second number: \u001b[39m\u001b[38;5;124m\"\u001b[39m))\n\u001b[0;32m      3\u001b[0m \u001b[38;5;28msum\u001b[39m \u001b[38;5;241m=\u001b[39m \u001b[38;5;241m0\u001b[39m\n",
      "\u001b[1;31mValueError\u001b[0m: invalid literal for int() with base 10: ''"
     ]
    }
   ],
   "source": [
    "num1 = int(input(\"Enter the first number: \"))\n",
    "num2 = int(input(\"Enter the second number: \"))\n",
    "sum = 0\n",
    "for i in range (num1, num2 + 1):\n",
    "    if i % 2 == 0:\n",
    "        sum += i\n",
    "print(\"Sum is:\", sum)"
   ]
  },
  {
   "cell_type": "code",
   "execution_count": 37,
   "metadata": {},
   "outputs": [
    {
     "name": "stdout",
     "output_type": "stream",
     "text": [
      "1 \n",
      "1 2 \n",
      "1 2 3 \n",
      "1 2 3 4 \n",
      "1 2 3 4 5 \n"
     ]
    }
   ],
   "source": [
    "# Pattern\n",
    "rows = int(input(\"Enter the number of rows:\"))\n",
    "for row in range(rows):\n",
    "    for col in range(row + 1):\n",
    "        print(col + 1, end=\" \")\n",
    "    print()"
   ]
  },
  {
   "cell_type": "code",
   "execution_count": null,
   "metadata": {},
   "outputs": [
    {
     "name": "stdout",
     "output_type": "stream",
     "text": [
      "Logged in successfully!\n"
     ]
    }
   ],
   "source": [
    "# Login system\n",
    "def login(username, password):\n",
    "    if username == \"admin\" and password == \"admin123\":\n",
    "        print(\"Logged in successfully!\")\n",
    "    else:\n",
    "        print(\"Invalid credentials. Please try again.\")\n",
    "\n",
    "username = input(\"Enter your name\")\n",
    "password = input(\"Enter your password\")\n",
    "login(username, password)\n"
   ]
  },
  {
   "cell_type": "code",
   "execution_count": 3,
   "metadata": {},
   "outputs": [
    {
     "name": "stdout",
     "output_type": "stream",
     "text": [
      "All your ongoing tasks:  ['hi']\n",
      "All your ongoing tasks:  ['hi', 'bye']\n",
      "All your ongoing tasks:  ['hi', 'bye', 'hello']\n",
      "All your ongoing tasks:  ['hi', 'bye', 'hello', 'ssup']\n",
      "Task 0 :  hi\n",
      "Task 1 :  bye\n",
      "Task 2 :  hello\n",
      "Task 3 :  ssup\n",
      "Task 0 removed successfully. Your tasks:  ['bye', 'hello', 'ssup']\n",
      "Task ' ssup ' removed successfully. Your tasks:  ['bye', 'hello']\n",
      "Task 0 :  bye\n",
      "Task 1 :  hello\n"
     ]
    }
   ],
   "source": [
    "# To do App\n",
    "tasks = []\n",
    "def addToDo():\n",
    "    todo = input(\"Enter your task:\")\n",
    "    tasks.append(todo)\n",
    "    print(\"All your ongoing tasks: \", tasks)\n",
    "\n",
    "def removeToDo():\n",
    "    opt = int(input(\"Enter 1 to enter the index of task you want to delete\\nEnter 2 to enter the task you want to delete\"))\n",
    "    if opt == 1:\n",
    "        todo = int(input(\"Enter the index:\"))\n",
    "        tasks.pop(todo)\n",
    "        print(\"Task\", todo, \"removed successfully. Your tasks: \", tasks)\n",
    "    elif opt == 2:\n",
    "        todo = input(\"Enter the todo:\")\n",
    "        tasks.remove(todo)\n",
    "        print(\"Task '\", todo, \"' removed successfully. Your tasks: \", tasks)\n",
    "def getAllToDos():\n",
    "    for i in range(len(tasks)):\n",
    "        print(\"Task\", i, \": \", tasks[i])\n",
    "\n",
    "while True:\n",
    "    option = int(input(\"Enter 1 to add to do\\nEnter 2 to remove to do\\nEnter 3 to see all your tasks\\nEnter 4 to exit\"))\n",
    "    match option:\n",
    "        case 1:\n",
    "            addToDo()\n",
    "        case 2:\n",
    "            removeToDo()\n",
    "        case 3:\n",
    "            getAllToDos()\n",
    "        case 4:\n",
    "            break\n",
    "        case default:\n",
    "            print(\"Please enter the correct option.\")\n"
   ]
  },
  {
   "cell_type": "code",
   "execution_count": 24,
   "metadata": {},
   "outputs": [
    {
     "name": "stdout",
     "output_type": "stream",
     "text": [
      "All employees:  {'emp1': {'name': 'Monica', 'salary': 7000000}, 'emp2': {'name': 'Rachel', 'salary': 6000000}, 'emp3': {'name': 'Phoebe', 'salary': 5000000}}\n",
      "Employees after adding:  {'emp1': {'name': 'Monica', 'salary': 7000000}, 'emp2': {'name': 'Rachel', 'salary': 6000000}, 'emp3': {'name': 'Phoebe', 'salary': 5000000}, 'emp4': {'name': 'Joey', 'salary': 4000000}}\n",
      "Employees after updating:  {'emp1': {'name': 'Monica', 'salary': 7000000}, 'emp2': {'name': 'Rachel', 'salary': 6000000}, 'emp3': {'name': 'Phoebe', 'salary': 5000000}, 'emp4': {'name': 'Joey', 'salary': 4500000}}\n",
      "{'name': 'Joey', 'salary': 4500000} removed.\n",
      "---------------------------------\n",
      "emp1\n",
      "name -> Monica\n",
      "salary -> 7000000\n",
      "---------------------------------\n",
      "emp2\n",
      "name -> Rachel\n",
      "salary -> 6000000\n",
      "---------------------------------\n",
      "emp3\n",
      "name -> Phoebe\n",
      "salary -> 5000000\n"
     ]
    }
   ],
   "source": [
    "employees = {\n",
    "    \"emp1\": {\n",
    "        \"name\": \"Monica\",\n",
    "        \"salary\": 7000000\n",
    "    },\n",
    "    \"emp2\": {\n",
    "        \"name\": \"Rachel\",\n",
    "        \"salary\": 6000000\n",
    "    },\n",
    "    \"emp3\": {\n",
    "        \"name\": \"Phoebe\",\n",
    "        \"salary\": 5000000\n",
    "    }\n",
    "}\n",
    "print(\"All employees: \", employees) \n",
    "# Add new employee\n",
    "employees[\"emp4\"] = {\n",
    "    \"name\": \"Joey\",\n",
    "    \"salary\": 4000000\n",
    "}\n",
    "print(\"Employees after adding: \", employees)\n",
    "# Update salary of an existing employee\n",
    "employees[\"emp4\"].update(salary = 4500000)\n",
    "print(\"Employees after updating: \", employees)\n",
    "# Removing an employee\n",
    "data = employees.pop(\"emp4\")\n",
    "print(data, \"removed.\")\n",
    "# Print all employees\n",
    "for employee in employees:\n",
    "    print(\"---------------------------------\")\n",
    "    print(employee)\n",
    "    for key, value in employees[employee].items():\n",
    "        print(key, \"->\", value)"
   ]
  }
 ],
 "metadata": {
  "kernelspec": {
   "display_name": "Python 3",
   "language": "python",
   "name": "python3"
  },
  "language_info": {
   "codemirror_mode": {
    "name": "ipython",
    "version": 3
   },
   "file_extension": ".py",
   "mimetype": "text/x-python",
   "name": "python",
   "nbconvert_exporter": "python",
   "pygments_lexer": "ipython3",
   "version": "3.13.2"
  }
 },
 "nbformat": 4,
 "nbformat_minor": 2
}
