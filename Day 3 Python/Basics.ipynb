{
 "cells": [
  {
   "cell_type": "code",
   "execution_count": 6,
   "id": "4c37460e-3547-4396-9f72-2943923b3372",
   "metadata": {},
   "outputs": [
    {
     "name": "stdout",
     "output_type": "stream",
     "text": [
      "Hi guysss\n"
     ]
    }
   ],
   "source": [
    "print(\"Hi guysss\")"
   ]
  },
  {
   "cell_type": "code",
   "execution_count": 7,
   "id": "6543a247-5367-4efa-abe3-756a1aee5229",
   "metadata": {},
   "outputs": [],
   "source": [
    "# This is a python comment"
   ]
  },
  {
   "cell_type": "code",
   "execution_count": 12,
   "id": "5da8c4b7-b02b-4e30-bfd1-fc7fec6d62e5",
   "metadata": {},
   "outputs": [
    {
     "name": "stdout",
     "output_type": "stream",
     "text": [
      "<class 'int'>\n",
      "<class 'str'>\n",
      "<class 'float'>\n",
      "Name: John\n"
     ]
    }
   ],
   "source": [
    "# Variables\n",
    "x = 5\n",
    "y = \"John\"\n",
    "z = 20.89\n",
    "print(type(x))\n",
    "print(type(y))\n",
    "print(type(z))\n",
    "print(f\"Name: {y}\")"
   ]
  },
  {
   "cell_type": "code",
   "execution_count": 14,
   "id": "b3ce0f63-9806-46f8-9e2e-461cf206117d",
   "metadata": {},
   "outputs": [
    {
     "name": "stdout",
     "output_type": "stream",
     "text": [
      "Orange   Banana   Cherry\n",
      "Mastermind   Mastermind   Mastermind\n"
     ]
    }
   ],
   "source": [
    "x, y, z = \"Orange\", \"Banana\", \"Cherry\"\n",
    "print(x, \" \", y, \" \", z)\n",
    "\n",
    "#Assign same value to multiple variables \n",
    "p = q = r = \"Mastermind\"\n",
    "print(p, \" \", q, \" \", r)"
   ]
  },
  {
   "cell_type": "code",
   "execution_count": 16,
   "id": "10fadf1c-aaa7-4b67-aaa0-1092ba170c62",
   "metadata": {},
   "outputs": [
    {
     "name": "stdout",
     "output_type": "stream",
     "text": [
      "<class 'complex'>\n"
     ]
    }
   ],
   "source": [
    "a = 2 + 1j\n",
    "print(type(a))"
   ]
  },
  {
   "cell_type": "code",
   "execution_count": 26,
   "id": "ac3fa63d-9987-4bfc-a796-905d90f4a194",
   "metadata": {},
   "outputs": [
    {
     "name": "stdout",
     "output_type": "stream",
     "text": [
      "Enter first number 5\n",
      "Enter second number 8\n"
     ]
    },
    {
     "name": "stdout",
     "output_type": "stream",
     "text": [
      "Addition:  13\n",
      "Subtraction:  -3\n"
     ]
    }
   ],
   "source": [
    "# Taking input from user\n",
    "num1 = input(\"Enter first number\")\n",
    "num2 = input(\"Enter second number\")\n",
    "print(\"Addition: \", (int(num1) + int(num2)))\n",
    "print(\"Subtraction: \", (int(num1) - int(num2)))"
   ]
  },
  {
   "cell_type": "code",
   "execution_count": 30,
   "id": "f051d80b-6d9b-4800-8030-c2e595659919",
   "metadata": {},
   "outputs": [
    {
     "name": "stdout",
     "output_type": "stream",
     "text": [
      "Enter first number 10\n",
      "Enter second number 2\n"
     ]
    },
    {
     "name": "stdout",
     "output_type": "stream",
     "text": [
      "Multiplication:  20\n",
      "Division:  5.0\n",
      "Modulus:  0\n",
      "Exponentiation:  100\n",
      "Floor Division:  5\n"
     ]
    }
   ],
   "source": [
    "num1 = int(input(\"Enter first number\"))\n",
    "num2 = int(input(\"Enter second number\"))\n",
    "print(\"Multiplication: \", num1 * num2)\n",
    "print(\"Division: \", num1 / num2)\n",
    "print(\"Modulus: \", num1 % num2)\n",
    "print(\"Exponentiation: \", num1 ** num2)\n",
    "print(\"Floor Division: \", num1 // num2)"
   ]
  },
  {
   "cell_type": "code",
   "execution_count": 4,
   "id": "71cd12ba-44a3-45f9-ae05-8e35c33ca526",
   "metadata": {},
   "outputs": [
    {
     "name": "stdout",
     "output_type": "stream",
     "text": [
      "Is num1 equal to num2?  False\n",
      "Is num1 not equal to num2?  True\n",
      "Is num1 greater than num2?  False\n",
      "Is num1 less than num2?  True\n"
     ]
    }
   ],
   "source": [
    "num1 = int(input(\"Enter first number\"))\n",
    "num2 = int(input(\"Enter second number\"))\n",
    "print(\"Is num1 equal to num2? \", num1 == num2)\n",
    "print(\"Is num1 not equal to num2? \", num1 != num2)\n",
    "print(\"Is num1 greater than num2? \", num1 > num2)\n",
    "print(\"Is num1 less than num2? \", num1 < num2)"
   ]
  },
  {
   "cell_type": "code",
   "execution_count": 6,
   "id": "21dc00d2",
   "metadata": {},
   "outputs": [
    {
     "name": "stdout",
     "output_type": "stream",
     "text": [
      "Initial value:  10\n",
      "After increment:  15\n",
      "After decrement:  12\n",
      "After multiplication:  36\n",
      "After division:  12.0\n",
      "After exponentiation:  1728.0\n",
      "After floor division:  576.0\n"
     ]
    }
   ],
   "source": [
    "num = 10\n",
    "print(\"Initial value: \", num)\n",
    "num+=5\n",
    "print(\"After increment: \", num)\n",
    "num-=3\n",
    "print(\"After decrement: \", num)\n",
    "num*=3\n",
    "print(\"After multiplication: \", num)\n",
    "num/=3\n",
    "print(\"After division: \", num)\n",
    "num**=3\n",
    "print(\"After exponentiation: \", num)\n",
    "num//=3\n",
    "print(\"After floor division: \", num)\n"
   ]
  },
  {
   "cell_type": "code",
   "execution_count": null,
   "id": "2379939b",
   "metadata": {},
   "outputs": [
    {
     "name": "stdout",
     "output_type": "stream",
     "text": [
      "False\n"
     ]
    }
   ],
   "source": [
    "# Logical Operator\n",
    "email = input(\"Enter your email: \")\n",
    "password = input(\"Enter your password\")\n",
    "print(email == \"admin@gmail.com\" and password == \"admin@123\")"
   ]
  },
  {
   "cell_type": "code",
   "execution_count": 2,
   "id": "d24096f5",
   "metadata": {},
   "outputs": [
    {
     "name": "stdout",
     "output_type": "stream",
     "text": [
      "Positive number\n"
     ]
    }
   ],
   "source": [
    "# Conditional Statements\n",
    "num = 10\n",
    "if num > 0:\n",
    "    print(\"Positive number\")\n",
    "elif num == 0:\n",
    "    print(\"Zero\")\n",
    "else:\n",
    "    print(\"Negative number\")"
   ]
  },
  {
   "cell_type": "code",
   "execution_count": 3,
   "id": "e09f85a5",
   "metadata": {},
   "outputs": [
    {
     "name": "stdout",
     "output_type": "stream",
     "text": [
      "Positive\n"
     ]
    }
   ],
   "source": [
    "# Ternary operator\n",
    "num = 5 \n",
    "print(\"Positive\") if num > 0 else print(\"Non positive\")"
   ]
  },
  {
   "cell_type": "code",
   "execution_count": 5,
   "id": "2b212ef3",
   "metadata": {},
   "outputs": [
    {
     "name": "stdout",
     "output_type": "stream",
     "text": [
      "Positive odd number\n"
     ]
    }
   ],
   "source": [
    "# Nested If\n",
    "num = 15\n",
    "if num > 0:\n",
    "    if num % 2 == 0:\n",
    "        print(\"Positive even number\")\n",
    "    else:\n",
    "        print(\"Positive odd number\")\n",
    "else:\n",
    "    print(\"Non positive number\")"
   ]
  },
  {
   "cell_type": "code",
   "execution_count": 7,
   "id": "0c9a04cb",
   "metadata": {},
   "outputs": [
    {
     "name": "stdout",
     "output_type": "stream",
     "text": [
      "This won't execute\n"
     ]
    }
   ],
   "source": [
    "# Pass statement\n",
    "num = -5\n",
    "if num > 0:\n",
    "    # A placeholder for future code, avoids syntax errors\n",
    "    pass\n",
    "else:\n",
    "    print(\"This won't execute\")"
   ]
  },
  {
   "cell_type": "code",
   "execution_count": null,
   "id": "0dee85d3",
   "metadata": {},
   "outputs": [
    {
     "name": "stdout",
     "output_type": "stream",
     "text": [
      "1\n"
     ]
    }
   ],
   "source": []
  },
  {
   "cell_type": "code",
   "execution_count": null,
   "id": "17b80d14",
   "metadata": {},
   "outputs": [],
   "source": []
  }
 ],
 "metadata": {
  "kernelspec": {
   "display_name": "Python 3",
   "language": "python",
   "name": "python3"
  },
  "language_info": {
   "codemirror_mode": {
    "name": "ipython",
    "version": 3
   },
   "file_extension": ".py",
   "mimetype": "text/x-python",
   "name": "python",
   "nbconvert_exporter": "python",
   "pygments_lexer": "ipython3",
   "version": "3.13.2"
  }
 },
 "nbformat": 4,
 "nbformat_minor": 5
}
