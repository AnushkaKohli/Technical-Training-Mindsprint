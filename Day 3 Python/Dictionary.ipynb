{
 "cells": [
  {
   "cell_type": "code",
   "execution_count": null,
   "metadata": {},
   "outputs": [
    {
     "name": "stdout",
     "output_type": "stream",
     "text": [
      "{'empId': 214, 'name': 'Anushka', 'department': 'Digital'}\n",
      "Employee name:  Anushka\n",
      "Employee department:  Digital\n",
      "Employee manager:  None\n",
      "Employee manager:  Anushka\n"
     ]
    },
    {
     "ename": "KeyError",
     "evalue": "'manager'",
     "output_type": "error",
     "traceback": [
      "\u001b[1;31m---------------------------------------------------------------------------\u001b[0m",
      "\u001b[1;31mKeyError\u001b[0m                                  Traceback (most recent call last)",
      "Cell \u001b[1;32mIn[11], line 12\u001b[0m\n\u001b[0;32m     10\u001b[0m \u001b[38;5;28mprint\u001b[39m(\u001b[38;5;124m\"\u001b[39m\u001b[38;5;124mEmployee manager: \u001b[39m\u001b[38;5;124m\"\u001b[39m, employee\u001b[38;5;241m.\u001b[39mget(\u001b[38;5;124m\"\u001b[39m\u001b[38;5;124mmanager\u001b[39m\u001b[38;5;124m\"\u001b[39m)) \u001b[38;5;66;03m# shows none if key not found\u001b[39;00m\n\u001b[0;32m     11\u001b[0m \u001b[38;5;28mprint\u001b[39m(\u001b[38;5;124m\"\u001b[39m\u001b[38;5;124mEmployee manager: \u001b[39m\u001b[38;5;124m\"\u001b[39m, employee\u001b[38;5;241m.\u001b[39mget(\u001b[38;5;124m\"\u001b[39m\u001b[38;5;124mmanager\u001b[39m\u001b[38;5;124m\"\u001b[39m, \u001b[38;5;124m\"\u001b[39m\u001b[38;5;124mAnushka\u001b[39m\u001b[38;5;124m\"\u001b[39m)) \u001b[38;5;66;03m# if there is no manager then show Anushka\u001b[39;00m\n\u001b[1;32m---> 12\u001b[0m \u001b[38;5;28mprint\u001b[39m(\u001b[38;5;124m\"\u001b[39m\u001b[38;5;124mEmployee manager: \u001b[39m\u001b[38;5;124m\"\u001b[39m, \u001b[43memployee\u001b[49m\u001b[43m[\u001b[49m\u001b[38;5;124;43m\"\u001b[39;49m\u001b[38;5;124;43mmanager\u001b[39;49m\u001b[38;5;124;43m\"\u001b[39;49m\u001b[43m]\u001b[49m) \u001b[38;5;66;03m# throws an error if key not found\u001b[39;00m\n",
      "\u001b[1;31mKeyError\u001b[0m: 'manager'"
     ]
    }
   ],
   "source": [
    "# Creating empty dictionary\n",
    "employees = dict()\n",
    "# Creating a dictionary with key value pairs\n",
    "employee = {\n",
    "    \"empId\": 214,\n",
    "    \"name\": \"Anushka\",\n",
    "    \"department\": \"Digital\"\n",
    "} \n",
    "print(employee)\n",
    "print(\"Employee name: \", employee[\"name\"])\n",
    "print(\"Employee department: \", employee.get(\"department\"))\n",
    "print(\"Employee manager: \", employee.get(\"manager\")) # shows none if key not found\n",
    "print(\"Employee manager: \", employee.get(\"manager\", \"Anushka\")) # if there is no manager then show Anushka\n",
    "# update manager\n",
    "employee[\"manager\"] = \"Shammi\" # Add new key\n",
    "employee[\"department\"] = \"SAP\" # Update value of existing key\n",
    "print(\"Employee manager: \", employee[\"manager\"]) # throws an error if key not found"
   ]
  },
  {
   "cell_type": "code",
   "execution_count": null,
   "metadata": {},
   "outputs": [
    {
     "name": "stdout",
     "output_type": "stream",
     "text": [
      "Employee:  {'empId': 214, 'name': 'Anushka', 'department': 'Digital'}\n",
      "('department', 'Digital') removed\n",
      "Employee after removal:  {'empId': 214, 'name': 'Anushka'}\n",
      "214 removed\n",
      "Employee after removal of empId:  {'name': 'Anushka'}\n"
     ]
    }
   ],
   "source": [
    "employee = {'empId': 214, 'name': 'Anushka', 'department': 'Digital'}\n",
    "print(\"Employee: \", employee)\n",
    "data = employee.popitem() # removes last pair\n",
    "print(data, \"removed\")\n",
    "print(\"Employee after removal: \", employee)\n",
    "data = employee.pop(\"empId\") # removes particular key\n",
    "print(data, \"removed\")\n",
    "print(\"Employee after removal of empId: \", employee)"
   ]
  },
  {
   "cell_type": "code",
   "execution_count": 21,
   "metadata": {},
   "outputs": [
    {
     "name": "stdout",
     "output_type": "stream",
     "text": [
      "id : 1\n",
      "name : Alex\n",
      "email : alex@gmail.com\n",
      "address : USA\n",
      "dict_items([('id', 1), ('name', 'Alex'), ('email', 'alex@gmail.com'), ('address', 'USA')])\n",
      "id : 1\n",
      "name : Alex\n",
      "email : alex@gmail.com\n",
      "address : USA\n"
     ]
    }
   ],
   "source": [
    "student = {\n",
    "    \"id\": 1,\n",
    "    \"name\": \"Alex\",\n",
    "    \"email\": \"alex@gmail.com\",\n",
    "    \"address\": \"USA\"\n",
    "}\n",
    "\n",
    "for key in student:\n",
    "    print(key, \":\", student[key])\n",
    "\n",
    "print(student.items())\n",
    "\n",
    "for key, value in student.items():\n",
    "    print(key, \":\", value)"
   ]
  },
  {
   "cell_type": "code",
   "execution_count": null,
   "metadata": {},
   "outputs": [],
   "source": [
    "if \"address\" in student:\n",
    "    print(\"Address is present a key in student\")"
   ]
  }
 ],
 "metadata": {
  "kernelspec": {
   "display_name": "Python 3",
   "language": "python",
   "name": "python3"
  },
  "language_info": {
   "codemirror_mode": {
    "name": "ipython",
    "version": 3
   },
   "file_extension": ".py",
   "mimetype": "text/x-python",
   "name": "python",
   "nbconvert_exporter": "python",
   "pygments_lexer": "ipython3",
   "version": "3.13.2"
  }
 },
 "nbformat": 4,
 "nbformat_minor": 2
}
