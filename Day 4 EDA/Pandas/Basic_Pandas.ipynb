{
 "cells": [
  {
   "cell_type": "code",
   "execution_count": 1,
   "metadata": {},
   "outputs": [
    {
     "name": "stdout",
     "output_type": "stream",
     "text": [
      "Version:  2.2.3\n"
     ]
    }
   ],
   "source": [
    "import pandas as pd\n",
    "print(\"Version: \", pd.__version__)"
   ]
  },
  {
   "cell_type": "code",
   "execution_count": 4,
   "metadata": {},
   "outputs": [
    {
     "name": "stdout",
     "output_type": "stream",
     "text": [
      "0    11\n",
      "1    12\n",
      "2     2\n",
      "3     3\n",
      "4     4\n",
      "5    56\n",
      "6    78\n",
      "7    89\n",
      "8    90\n",
      "dtype: int64\n",
      "4th element at index 3: 3\n"
     ]
    }
   ],
   "source": [
    "# Series\n",
    "a = [11, 12, 2, 3, 4, 56, 78, 89, 90]\n",
    "mySeries = pd.Series(a)\n",
    "print(mySeries)\n",
    "print(\"4th element at index 3:\", mySeries[3])"
   ]
  },
  {
   "cell_type": "code",
   "execution_count": 8,
   "metadata": {},
   "outputs": [
    {
     "name": "stdout",
     "output_type": "stream",
     "text": [
      "MyVar: \n",
      "a    1\n",
      "b    7\n",
      "c    4\n",
      "dtype: int64\n",
      "MyVar[b]:  7\n"
     ]
    }
   ],
   "source": [
    "# Labels\n",
    "a = [1, 7, 4]\n",
    "myVar = pd.Series(a, index = [\"a\", \"b\", \"c\"])\n",
    "print(\"MyVar: \")\n",
    "print(myVar)\n",
    "print(\"MyVar[b]: \", myVar[\"b\"])"
   ]
  },
  {
   "cell_type": "code",
   "execution_count": null,
   "metadata": {},
   "outputs": [
    {
     "name": "stdout",
     "output_type": "stream",
     "text": [
      "Data: \n",
      "id                         1\n",
      "name           Anushka Kohli\n",
      "email      anushka@gmail.com\n",
      "address            Bengaluru\n",
      "salary              98765432\n",
      "dtype: object \n",
      "\n",
      "id: 1\n",
      "name: Anushka Kohli\n"
     ]
    }
   ],
   "source": [
    "# Dictionary to Series\n",
    "employee = {\n",
    "    \"id\": 1,\n",
    "    \"name\": \"Anushka Kohli\",\n",
    "    \"email\": \"anushka@gmail.com\",\n",
    "    \"address\": \"Bengaluru\",\n",
    "    \"salary\": 98765432,\n",
    "}\n",
    "data = pd.Series(employee)\n",
    "print(\"Data: \")\n",
    "print(data, \"\\n\")\n",
    "print(\"id:\", data[\"id\"]) # Label created automatically based on key\n",
    "print(\"name:\", data[\"name\"])"
   ]
  },
  {
   "cell_type": "code",
   "execution_count": 20,
   "metadata": {},
   "outputs": [
    {
     "name": "stdout",
     "output_type": "stream",
     "text": [
      "      Name  Age         City\n",
      "0    Alice   35     New York\n",
      "1  Charlie   28      Chicago\n",
      "2      Bob   16  Los Angeles\n"
     ]
    }
   ],
   "source": [
    "data = {\n",
    "    \"Name\": [\"Alice\", \"Charlie\", \"Bob\"],\n",
    "    \"Age\": [35, 28, 16],\n",
    "    \"City\": [\"New York\", \"Chicago\", \"Los Angeles\"]\n",
    "}\n",
    "# Converting Dictionary into a pandas Dataframe\n",
    "df = pd.DataFrame(data)\n",
    "# Displaying the Dataframe\n",
    "print(df)"
   ]
  },
  {
   "cell_type": "code",
   "execution_count": 21,
   "metadata": {},
   "outputs": [
    {
     "name": "stdout",
     "output_type": "stream",
     "text": [
      "Getting row using loc:\n",
      "Name       Alice\n",
      "Age           35\n",
      "City    New York\n",
      "Name: 0, dtype: object\n",
      "\n",
      "Getting first 2 rows using loc:\n",
      "      Name  Age      City\n",
      "0    Alice   35  New York\n",
      "1  Charlie   28   Chicago\n"
     ]
    }
   ],
   "source": [
    "# Getting the row using loc attribute\n",
    "print(\"Getting row using loc:\")\n",
    "print(df.loc[0])\n",
    "# Get first 2 rows\n",
    "print(\"\\nGetting first 2 rows using loc:\")\n",
    "print(df.loc[[0,1]])"
   ]
  },
  {
   "cell_type": "code",
   "execution_count": null,
   "metadata": {},
   "outputs": [
    {
     "name": "stdout",
     "output_type": "stream",
     "text": [
      "\n",
      "Getting first 2 rows using loc:\n",
      "35\n"
     ]
    }
   ],
   "source": [
    "# Getting element at 0th row and 1st column\n",
    "print(\"\\nEle:\")\n",
    "print(df.iloc[0,1])"
   ]
  },
  {
   "cell_type": "code",
   "execution_count": 27,
   "metadata": {},
   "outputs": [
    {
     "name": "stdout",
     "output_type": "stream",
     "text": [
      "          name  age\n",
      "user1    Alice   35\n",
      "user2  Charlie   28\n",
      "user3      Bob   16\n",
      "\n",
      "name    Alice\n",
      "age        35\n",
      "Name: user1, dtype: object\n",
      "\n",
      "          name  age\n",
      "user1    Alice   35\n",
      "user2  Charlie   28\n"
     ]
    }
   ],
   "source": [
    "user_data = {\n",
    "    \"name\": [\"Alice\", \"Charlie\", \"Bob\"],\n",
    "    \"age\": [35, 28, 16],\n",
    "}\n",
    "\n",
    "df1 = pd.DataFrame(user_data, index=[\"user1\", \"user2\", \"user3\"])\n",
    "print(df1)\n",
    "print()\n",
    "print(df1.loc[\"user1\"])\n",
    "print()\n",
    "print(df1.loc[[\"user1\", \"user2\"]])"
   ]
  },
  {
   "cell_type": "code",
   "execution_count": 31,
   "metadata": {},
   "outputs": [
    {
     "name": "stdout",
     "output_type": "stream",
     "text": [
      "      name              email  age  salary\n",
      "0    Alice    alice@gmail.com   35   10000\n",
      "1  Charlie  charlie@gmail.com   28   20000\n",
      "2      Bob      bob@gmail.com   16   30000\n"
     ]
    }
   ],
   "source": [
    "user_data = {\n",
    "    \"name\": [\"Alice\", \"Charlie\", \"Bob\"],\n",
    "    \"age\": [35, 28, 16],\n",
    "    \"salary\": [10000, 20000, 30000],\n",
    "    \"email\": [\"alice@gmail.com\", \"charlie@gmail.com\", \"bob@gmail.com\"]\n",
    "}\n",
    "\n",
    "df1 = pd.DataFrame(user_data, columns=[\"name\", \"email\", \"age\", \"salary\"])\n",
    "print(df1)\n",
    "# print()\n",
    "# print(df1.loc[\"user1\"])\n",
    "# print()\n",
    "# print(df1.loc[[\"user1\", \"user2\"]])"
   ]
  },
  {
   "cell_type": "code",
   "execution_count": null,
   "metadata": {},
   "outputs": [
    {
     "name": "stdout",
     "output_type": "stream",
     "text": [
      "      Name  Age           City\n",
      "0    Alice   25       New York\n",
      "1      Bob   30        Chicago\n",
      "2  Charlie   35    Los Angeles\n",
      "3    David   40  San Francisco\n"
     ]
    }
   ],
   "source": [
    "data = [\n",
    "    [\"Alice\", 25, \"New York\"],\n",
    "    [\"Bob\", 30, \"Chicago\"],\n",
    "    [\"Charlie\", 35, \"Los Angeles\"],\n",
    "    [\"David\", 40, \"San Francisco\"]\n",
    "]\n",
    "\n",
    "df = pd.DataFrame(data, columns=[\"Name\", \"Age\", \"City\"])\n",
    "print(df)"
   ]
  },
  {
   "cell_type": "code",
   "execution_count": null,
   "metadata": {},
   "outputs": [
    {
     "name": "stdout",
     "output_type": "stream",
     "text": [
      "    id              name                      email      gender  grade\n",
      "0    1     Dwight Kewish         dkewish0@naver.com        Male    3.4\n",
      "1    2     Brandice Cast       bcast1@discovery.com      Female    7.5\n",
      "2    3    Leese Werrilow   lwerrilow2@tuttocitta.it      Female    9.7\n",
      "3    4   Cathryn Shivell       cshivell3@usnews.com      Female    3.1\n",
      "4    5    Kellyann Irnys          kirnys4@alexa.com      Female    4.2\n",
      "..  ..               ...                        ...         ...    ...\n",
      "92  93  Nannie Summerlee  nsummerlee2k@bandcamp.com      Female    9.6\n",
      "93  94    Eugenius Saxby       esaxby2l@sina.com.cn        Male    2.1\n",
      "94  95   Raimondo Scruby        rscruby2m@yahoo.com        Male    7.5\n",
      "95  96     Hersh Kleiser       hkleiser2n@wikia.com        Male    6.4\n",
      "96  97    Morna Wetherby    mwetherby2o@harvard.edu  Non-binary    6.8\n",
      "\n",
      "[97 rows x 5 columns]\n",
      "   id            name                     email  gender  grade\n",
      "0   1   Dwight Kewish        dkewish0@naver.com    Male    3.4\n",
      "1   2   Brandice Cast      bcast1@discovery.com  Female    7.5\n",
      "2   3  Leese Werrilow  lwerrilow2@tuttocitta.it  Female    9.7\n"
     ]
    },
    {
     "data": {
      "text/html": [
       "<div>\n",
       "<style scoped>\n",
       "    .dataframe tbody tr th:only-of-type {\n",
       "        vertical-align: middle;\n",
       "    }\n",
       "\n",
       "    .dataframe tbody tr th {\n",
       "        vertical-align: top;\n",
       "    }\n",
       "\n",
       "    .dataframe thead th {\n",
       "        text-align: right;\n",
       "    }\n",
       "</style>\n",
       "<table border=\"1\" class=\"dataframe\">\n",
       "  <thead>\n",
       "    <tr style=\"text-align: right;\">\n",
       "      <th></th>\n",
       "      <th>id</th>\n",
       "      <th>name</th>\n",
       "      <th>email</th>\n",
       "      <th>gender</th>\n",
       "      <th>grade</th>\n",
       "    </tr>\n",
       "  </thead>\n",
       "  <tbody>\n",
       "    <tr>\n",
       "      <th>0</th>\n",
       "      <td>1</td>\n",
       "      <td>Dwight Kewish</td>\n",
       "      <td>dkewish0@naver.com</td>\n",
       "      <td>Male</td>\n",
       "      <td>3.4</td>\n",
       "    </tr>\n",
       "    <tr>\n",
       "      <th>1</th>\n",
       "      <td>2</td>\n",
       "      <td>Brandice Cast</td>\n",
       "      <td>bcast1@discovery.com</td>\n",
       "      <td>Female</td>\n",
       "      <td>7.5</td>\n",
       "    </tr>\n",
       "    <tr>\n",
       "      <th>2</th>\n",
       "      <td>3</td>\n",
       "      <td>Leese Werrilow</td>\n",
       "      <td>lwerrilow2@tuttocitta.it</td>\n",
       "      <td>Female</td>\n",
       "      <td>9.7</td>\n",
       "    </tr>\n",
       "    <tr>\n",
       "      <th>3</th>\n",
       "      <td>4</td>\n",
       "      <td>Cathryn Shivell</td>\n",
       "      <td>cshivell3@usnews.com</td>\n",
       "      <td>Female</td>\n",
       "      <td>3.1</td>\n",
       "    </tr>\n",
       "    <tr>\n",
       "      <th>4</th>\n",
       "      <td>5</td>\n",
       "      <td>Kellyann Irnys</td>\n",
       "      <td>kirnys4@alexa.com</td>\n",
       "      <td>Female</td>\n",
       "      <td>4.2</td>\n",
       "    </tr>\n",
       "  </tbody>\n",
       "</table>\n",
       "</div>"
      ],
      "text/plain": [
       "   id             name                     email  gender  grade\n",
       "0   1    Dwight Kewish        dkewish0@naver.com    Male    3.4\n",
       "1   2    Brandice Cast      bcast1@discovery.com  Female    7.5\n",
       "2   3   Leese Werrilow  lwerrilow2@tuttocitta.it  Female    9.7\n",
       "3   4  Cathryn Shivell      cshivell3@usnews.com  Female    3.1\n",
       "4   5   Kellyann Irnys         kirnys4@alexa.com  Female    4.2"
      ]
     },
     "execution_count": 38,
     "metadata": {},
     "output_type": "execute_result"
    }
   ],
   "source": [
    "# Use https://mockaroo.com/ to generate dummy data\n",
    "student_data = pd.read_csv(\"data.csv\") # Reads data from CSV file\n",
    "print(student_data)\n",
    "print(student_data.head(3)) # Display first 3 rows - data is converted into string\n",
    "student_data.head() # Display first 5 rows - data is showed as table"
   ]
  },
  {
   "cell_type": "code",
   "execution_count": 39,
   "metadata": {},
   "outputs": [
    {
     "name": "stdout",
     "output_type": "stream",
     "text": [
      "    id                name                            email       gender  grade\n",
      "0    1       Dwight Kewish               dkewish0@naver.com         Male    3.4\n",
      "1    2       Brandice Cast             bcast1@discovery.com       Female    7.5\n",
      "2    3      Leese Werrilow         lwerrilow2@tuttocitta.it       Female    9.7\n",
      "3    4     Cathryn Shivell             cshivell3@usnews.com       Female    3.1\n",
      "4    5      Kellyann Irnys                kirnys4@alexa.com       Female    4.2\n",
      "5    6     Clemens Fairley            cfairley5@foxnews.com         Male    8.8\n",
      "6    7   Terri-jo Mollison             tmollison6@yahoo.com       Female    2.4\n",
      "7    8     Heida Riddiough              hriddiough7@wsj.com       Female    5.9\n",
      "8    9       Linus Morgans                 lmorgans8@go.com         Male    5.4\n",
      "9   10       Lorna Sirette         lsirette9@whitehouse.gov       Female    5.3\n",
      "10  11  Benedetto Stanaway            bstanawaya@rambler.ru         Male    1.4\n",
      "11  12        Duncan Mantz               dmantzb@oracle.com         Male    5.1\n",
      "12  13        Kris Larmour              klarmourc@jimdo.com       Female    5.9\n",
      "13  14      Corena Cutajar         ccutajard@thetimes.co.uk       Female    3.7\n",
      "14  15           Birk Donn                  bdonne@narod.ru   Polygender    4.4\n",
      "15  16        Erika Vasler          evaslerf@soundcloud.com       Female    2.8\n",
      "16  17      Rafael Carayol         rcarayolg@guardian.co.uk  Genderqueer    3.7\n",
      "17  18        Ida Kirtland           ikirtlandh@cornell.edu       Female    9.3\n",
      "18  19     Michal Casserly               mcasserlyi@cnn.com         Male    6.8\n",
      "19  20  Saundra De Zamudio               sdej@newyorker.com       Female    8.2\n",
      "20  21     Royce Apfelmann            rapfelmannk@yandex.ru         Male    7.2\n",
      "21  22        Barbe Shaves                  bshavesl@un.org       Female    3.0\n",
      "22  23     Jeralee Bolesma              jbolesmam@mysql.com       Female    8.6\n",
      "23  24       Gordan Pitone                gpitonen@blog.com         Male    3.6\n",
      "24  25     Gizela Gillison    ggillisono@barnesandnoble.com       Female    7.9\n",
      "25  26   Madison Haversham     mhavershamp@businessweek.com         Male    1.7\n",
      "26  27       Arlette Celiz             acelizq@illinois.edu       Female    4.3\n",
      "27  28       Rosita Burgis                 rburgisr@wix.com       Female    6.2\n",
      "28  29       Roddy Norheny            rnorhenys@nbcnews.com         Male    1.4\n",
      "29  30      Lamont Patroni                lpatronit@psu.edu         Male    1.8\n",
      "30  31     Byrann Gillyatt             bgillyattu@chron.com         Male    9.6\n",
      "31  32        Joela Mattke                  jmattkev@gov.uk       Female    7.5\n",
      "32  33       Joyce Poynzer                  jpoynzerw@51.la       Female    8.8\n",
      "33  34         Pru Barwick            pbarwickx@blogger.com       Female    1.2\n",
      "34  35      Wendeline Dann                 wdanny@google.de       Female    5.7\n",
      "35  36          Iris Basil                 ibasilz@army.mil       Female    8.4\n",
      "36  37   Dennie Kenningley        dkenningley10@mozilla.com         Male    1.5\n",
      "37  38        Lee Daintree  ldaintree11@creativecommons.org         Male    2.9\n",
      "38  39         Jobi Cheeke               jcheeke12@dell.com  Genderqueer    5.8\n",
      "39  40        Albert Segge       asegge13@blogtalkradio.com         Male    3.7\n",
      "40  41       Gaven Pancast             gpancast14@naver.com         Male    5.1\n",
      "41  42       Reider Middup        rmiddup15@dagondesign.com         Male    1.1\n",
      "42  43       Tabbie Orbell          torbell16@microsoft.com       Female    2.6\n",
      "43  44      Archy Heineken       aheineken17@bravesites.com         Male    6.3\n",
      "44  45     Jackson Bedward               jbedward18@ask.com         Male    4.0\n",
      "45  46          Elmer Muir                   emuir19@hp.com         Male    4.7\n",
      "46  47         Killian Ash            kash1a@deviantart.com         Male    9.7\n",
      "47  48      Dallas Lusgdin         dlusgdin1b@canalblog.com     Bigender    3.9\n",
      "48  49       Forrest Woolf        fwoolf1c@wunderground.com         Male    8.1\n",
      "49  50       Lianne Gorgen            lgorgen1d@twitter.com       Female    3.6\n",
      "50  51          Davida Gue               dgue1e@tinypic.com       Female    7.5\n",
      "51  52          Sly Lillie             slillie1f@smh.com.au         Male    8.7\n",
      "52  53       Garvy Beagles          gbeagles1g@cbslocal.com         Male    2.9\n",
      "53  54    Crissie Spackman         cspackman1h@amazon.co.uk       Female    3.3\n",
      "54  55        Ginger Acuna                 gacuna1i@aol.com         Male    4.7\n",
      "55  56    Roarke Haddinton             rhaddinton1j@ucoz.ru         Male    8.6\n",
      "56  57       Jenn Mulliner         jmulliner1k@trellian.com       Female    7.7\n",
      "57  58         Homere Bier                  hbier1l@cdc.gov         Male    3.0\n",
      "58  59   Emlen Saterthwait         esaterthwait1m@jigsy.com         Male    4.0\n",
      "59  60    Ann-marie Greeve                 agreeve1n@nhs.uk       Female    3.1\n",
      "60  61       Lindsay Tesoe         ltesoe1o@hugedomains.com       Female    3.9\n",
      "61  62           Wade Jory          wjory1p@telegraph.co.uk         Male    6.2\n",
      "62  63    Annemarie Dickon                 adickon1q@a8.net       Female    4.2\n",
      "63  64     Anne McIlwreath        amcilwreath1r@shop-pro.jp       Female    1.3\n",
      "64  65     Mariann Pleavin              mpleavin1s@etsy.com       Female    6.7\n",
      "65  66     Wendye Aiskrigg            waiskrigg1t@bbc.co.uk       Female    2.5\n",
      "66  67   Gayler Schumacher       gschumacher1u@mapquest.com         Male    3.2\n",
      "67  68      Fremont Climer              fclimer1v@bbc.co.uk         Male    2.1\n",
      "68  69        Nikos Moston               nmoston1w@dmoz.org         Male    8.3\n",
      "69  70        Bebe McManus               bmcmanus1x@usa.gov       Female    9.2\n",
      "70  71     Carlie Georgins             cgeorgins1y@usda.gov       Female    1.6\n",
      "71  72        Prue McAline          pmcaline1z@usatoday.com       Female    2.0\n",
      "72  73      Ewen Shillitoe            eshillitoe20@dmoz.org         Male    5.2\n",
      "73  74           Max Milby              mmilby21@flickr.com       Female    7.6\n",
      "74  75  William O'Sheeryne           wosheeryne22@nymag.com         Male    4.2\n",
      "75  76     Priscella Grave              pgrave23@utexas.edu       Female    3.4\n",
      "76  77       Norby Couzens          ncouzens24@amazon.co.jp         Male    3.2\n",
      "77  78       Ritchie Detoc               rdetoc25@state.gov         Male    8.1\n",
      "78  79        Orion Huglin          ohuglin26@posterous.com         Male    7.4\n",
      "79  80       Donnell Oriel              doriel27@uol.com.br         Male    3.3\n",
      "80  81       Sean Paolotto              spaolotto28@icq.com         Male    9.2\n",
      "81  82    Carlyle McGivena             cmcgivena29@narod.ru         Male    9.9\n",
      "82  83         Currey Birt               cbirt2a@netlog.com  Genderqueer    4.3\n",
      "83  84     Kalie Studholme      kstudholme2b@purevolume.com       Female    2.8\n",
      "84  85      Lionello Malia                 lmalia2c@irs.gov         Male    8.8\n",
      "85  86         Rivi Meegan                 rmeegan2d@un.org       Female    9.3\n",
      "86  87      Monah McKeeman            mmckeeman2e@nymag.com       Female    5.6\n",
      "87  88      Lacie Luckcuck            lluckcuck2f@desdev.cn       Female    6.4\n",
      "88  89      Matti O'Farris          mofarris2g@amazon.co.uk       Female    7.2\n",
      "89  90    Steffane Veivers           sveivers2h@tinyurl.com     Bigender    4.0\n",
      "90  91      Mollee Picford          mpicford2i@examiner.com       Female    8.1\n",
      "91  92      Duffie Ferraro              dferraro2j@sohu.com         Male    4.5\n",
      "92  93    Nannie Summerlee        nsummerlee2k@bandcamp.com       Female    9.6\n",
      "93  94      Eugenius Saxby             esaxby2l@sina.com.cn         Male    2.1\n",
      "94  95     Raimondo Scruby              rscruby2m@yahoo.com         Male    7.5\n",
      "95  96       Hersh Kleiser             hkleiser2n@wikia.com         Male    6.4\n",
      "96  97      Morna Wetherby          mwetherby2o@harvard.edu   Non-binary    6.8\n"
     ]
    }
   ],
   "source": [
    "# To print all the data\n",
    "print(student_data.to_string())"
   ]
  },
  {
   "cell_type": "code",
   "execution_count": null,
   "metadata": {},
   "outputs": [
    {
     "name": "stdout",
     "output_type": "stream",
     "text": [
      "(97, 5)\n",
      "\n",
      "<class 'pandas.core.frame.DataFrame'>\n",
      "RangeIndex: 97 entries, 0 to 96\n",
      "Data columns (total 5 columns):\n",
      " #   Column  Non-Null Count  Dtype  \n",
      "---  ------  --------------  -----  \n",
      " 0   id      97 non-null     int64  \n",
      " 1   name    97 non-null     object \n",
      " 2   email   97 non-null     object \n",
      " 3   gender  97 non-null     object \n",
      " 4   grade   97 non-null     float64\n",
      "dtypes: float64(1), int64(1), object(3)\n",
      "memory usage: 3.9+ KB\n",
      "\n"
     ]
    },
    {
     "data": {
      "text/html": [
       "<div>\n",
       "<style scoped>\n",
       "    .dataframe tbody tr th:only-of-type {\n",
       "        vertical-align: middle;\n",
       "    }\n",
       "\n",
       "    .dataframe tbody tr th {\n",
       "        vertical-align: top;\n",
       "    }\n",
       "\n",
       "    .dataframe thead th {\n",
       "        text-align: right;\n",
       "    }\n",
       "</style>\n",
       "<table border=\"1\" class=\"dataframe\">\n",
       "  <thead>\n",
       "    <tr style=\"text-align: right;\">\n",
       "      <th></th>\n",
       "      <th>id</th>\n",
       "      <th>grade</th>\n",
       "    </tr>\n",
       "  </thead>\n",
       "  <tbody>\n",
       "    <tr>\n",
       "      <th>count</th>\n",
       "      <td>97.000000</td>\n",
       "      <td>97.000000</td>\n",
       "    </tr>\n",
       "    <tr>\n",
       "      <th>mean</th>\n",
       "      <td>49.000000</td>\n",
       "      <td>5.324742</td>\n",
       "    </tr>\n",
       "    <tr>\n",
       "      <th>std</th>\n",
       "      <td>28.145456</td>\n",
       "      <td>2.560031</td>\n",
       "    </tr>\n",
       "    <tr>\n",
       "      <th>min</th>\n",
       "      <td>1.000000</td>\n",
       "      <td>1.100000</td>\n",
       "    </tr>\n",
       "    <tr>\n",
       "      <th>25%</th>\n",
       "      <td>25.000000</td>\n",
       "      <td>3.200000</td>\n",
       "    </tr>\n",
       "    <tr>\n",
       "      <th>50%</th>\n",
       "      <td>49.000000</td>\n",
       "      <td>5.100000</td>\n",
       "    </tr>\n",
       "    <tr>\n",
       "      <th>75%</th>\n",
       "      <td>73.000000</td>\n",
       "      <td>7.500000</td>\n",
       "    </tr>\n",
       "    <tr>\n",
       "      <th>max</th>\n",
       "      <td>97.000000</td>\n",
       "      <td>9.900000</td>\n",
       "    </tr>\n",
       "  </tbody>\n",
       "</table>\n",
       "</div>"
      ],
      "text/plain": [
       "              id      grade\n",
       "count  97.000000  97.000000\n",
       "mean   49.000000   5.324742\n",
       "std    28.145456   2.560031\n",
       "min     1.000000   1.100000\n",
       "25%    25.000000   3.200000\n",
       "50%    49.000000   5.100000\n",
       "75%    73.000000   7.500000\n",
       "max    97.000000   9.900000"
      ]
     },
     "execution_count": 46,
     "metadata": {},
     "output_type": "execute_result"
    }
   ],
   "source": [
    "# To get the number of rows and columns\n",
    "print(student_data.shape)\n",
    "print()\n",
    "\n",
    "# Summary of the dataframe\n",
    "student_data.info()\n",
    "print()\n",
    "\n",
    "# Describe the data (numerical columns)\n",
    "student_data.describe()"
   ]
  },
  {
   "cell_type": "code",
   "execution_count": null,
   "metadata": {},
   "outputs": [
    {
     "name": "stdout",
     "output_type": "stream",
     "text": [
      "0        Dwight Kewish\n",
      "1        Brandice Cast\n",
      "2       Leese Werrilow\n",
      "3      Cathryn Shivell\n",
      "4       Kellyann Irnys\n",
      "            ...       \n",
      "92    Nannie Summerlee\n",
      "93      Eugenius Saxby\n",
      "94     Raimondo Scruby\n",
      "95       Hersh Kleiser\n",
      "96      Morna Wetherby\n",
      "Name: name, Length: 97, dtype: object\n"
     ]
    },
    {
     "data": {
      "text/plain": [
       "count    97.000000\n",
       "mean      5.324742\n",
       "std       2.560031\n",
       "min       1.100000\n",
       "25%       3.200000\n",
       "50%       5.100000\n",
       "75%       7.500000\n",
       "max       9.900000\n",
       "Name: grade, dtype: float64"
      ]
     },
     "execution_count": 55,
     "metadata": {},
     "output_type": "execute_result"
    }
   ],
   "source": [
    "# Get single column\n",
    "print(student_data[\"name\"])\n",
    "\n",
    "# Get multiple columns\n",
    "student_data[[\"id\", \"name\", \"email\"]].head()\n",
    "\n",
    "# Describe only grade column\n",
    "student_data['grade'].describe()"
   ]
  }
 ],
 "metadata": {
  "kernelspec": {
   "display_name": "Python 3",
   "language": "python",
   "name": "python3"
  },
  "language_info": {
   "codemirror_mode": {
    "name": "ipython",
    "version": 3
   },
   "file_extension": ".py",
   "mimetype": "text/x-python",
   "name": "python",
   "nbconvert_exporter": "python",
   "pygments_lexer": "ipython3",
   "version": "3.13.2"
  }
 },
 "nbformat": 4,
 "nbformat_minor": 2
}
