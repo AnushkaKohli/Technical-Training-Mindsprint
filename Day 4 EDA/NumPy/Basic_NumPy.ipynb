{
 "cells": [
  {
   "cell_type": "code",
   "execution_count": 1,
   "metadata": {},
   "outputs": [
    {
     "name": "stdout",
     "output_type": "stream",
     "text": [
      "2.2.3\n"
     ]
    }
   ],
   "source": [
    "import numpy as np\n",
    "print(np.__version__)"
   ]
  },
  {
   "cell_type": "code",
   "execution_count": 3,
   "metadata": {},
   "outputs": [
    {
     "name": "stdout",
     "output_type": "stream",
     "text": [
      "[10 20 30 40 50]\n",
      "Type: <class 'numpy.ndarray'>\n",
      "Shape: (5,)\n"
     ]
    }
   ],
   "source": [
    "# Array creation\n",
    "list = [10, 20, 30, 40, 50]\n",
    "arr = np.array(list)\n",
    "print(arr)\n",
    "print(\"Type:\", type(arr))\n",
    "print(\"Shape:\", arr.shape)"
   ]
  },
  {
   "cell_type": "code",
   "execution_count": 5,
   "metadata": {},
   "outputs": [
    {
     "name": "stdout",
     "output_type": "stream",
     "text": [
      "[[1 2 3]\n",
      " [4 5 6]]\n",
      "Shape: (2, 3)\n",
      "Size: 6\n",
      "First row: [1 2 3]\n",
      "First column: [1 4]\n",
      "First row and second column: 2\n"
     ]
    }
   ],
   "source": [
    "arr1 = np.array([[1, 2, 3], [4, 5, 6]]) # 2D array\n",
    "print(arr1)\n",
    "print(\"Shape:\", arr1.shape) # Rows and columns\n",
    "print(\"Size:\", arr1.size) # Size\n",
    "print(\"First row:\", arr1[0]) # First row\n",
    "print(\"First column:\", arr1[:, 0]) # First column\n",
    "print(\"First row and second column:\", arr1[0, 1]) # First row and second column"
   ]
  },
  {
   "cell_type": "code",
   "execution_count": 11,
   "metadata": {},
   "outputs": [
    {
     "name": "stdout",
     "output_type": "stream",
     "text": [
      "[[0. 0. 0.]\n",
      " [0. 0. 0.]]\n",
      "\n",
      "[[1. 1. 1.]\n",
      " [1. 1. 1.]]\n",
      "\n",
      "[[5 5 5]\n",
      " [5 5 5]]\n",
      "\n",
      "[[1. 0. 0.]\n",
      " [0. 1. 0.]\n",
      " [0. 0. 1.]]\n",
      "\n",
      "[1 3 5 7 9]\n",
      "\n",
      "[[1 4 7]\n",
      " [2 5 8]]\n"
     ]
    }
   ],
   "source": [
    "# Generate arrays\n",
    "print(np.zeros((2, 3))) # 2x3 array with zeros\n",
    "print()\n",
    "print(np.ones((2, 3))) # 2x3 array with ones\n",
    "print()\n",
    "print(np.full((2, 3), 5)) # 2x3 array with 5\n",
    "print()\n",
    "print(np.eye(3)) # Identity matrix\n",
    "print()\n",
    "print(np.arange(1, 10, 2)) # Array with values from 1 to 10 with step 2\n",
    "print()\n",
    "# 2D array with values from 1 to 10 with step 3 in 1st row and and from 2 to 10 with step 3 in 2nd row\n",
    "sample = np.array([np.arange(1, 10, 3), np.arange(2, 10, 3)])\n",
    "print(sample)"
   ]
  },
  {
   "cell_type": "code",
   "execution_count": 15,
   "metadata": {},
   "outputs": [
    {
     "name": "stdout",
     "output_type": "stream",
     "text": [
      "Array a:\n",
      "[[1 2]\n",
      " [3 4]]\n",
      "Array b:\n",
      "[[5 6]\n",
      " [7 8]]\n",
      "Element-wise addition:\n",
      "[[ 6  8]\n",
      " [10 12]]\n",
      "Element-wise multiplication:\n",
      "[[ 5 12]\n",
      " [21 32]]\n",
      "Element-wise power:\n",
      "[[ 1  4]\n",
      " [ 9 16]]\n"
     ]
    }
   ],
   "source": [
    "# Element-wise operations\n",
    "a = np.array([[1, 2], [3, 4]])\n",
    "b = np.array([[5, 6], [7, 8]])\n",
    "\n",
    "print(\"Array a:\")\n",
    "print(a)\n",
    "print(\"Array b:\")\n",
    "print(b)\n",
    "\n",
    "print(\"Element-wise addition:\")\n",
    "print(a+b) # Element-wise addition\n",
    "print(\"Element-wise multiplication:\")\n",
    "print(a*b)  # Element-wise multiplication\n",
    "print(\"Element-wise power:\")\n",
    "print(a**2) # Element-wise power"
   ]
  },
  {
   "cell_type": "code",
   "execution_count": 16,
   "metadata": {},
   "outputs": [
    {
     "name": "stdout",
     "output_type": "stream",
     "text": [
      "Total spend per customer: [ 450  950  450 1650  230]\n",
      "Average spend per customer: [150.         316.66666667 150.         550.          76.66666667]\n",
      "Customer with max average spend: 550.0\n"
     ]
    }
   ],
   "source": [
    "import numpy as np\n",
    "\n",
    "# Purchase amounts (5 customers, 3 different purchases)\n",
    "purchases = np.array([\n",
    "    [200, 150, 100],\n",
    "    [300, 250, 400],\n",
    "    [100, 200, 150],\n",
    "    [500, 600, 550],\n",
    "    [50, 80, 100],\n",
    "])\n",
    "\n",
    "# Total spend per customer\n",
    "# total_spend = np.sum(purchases, axis=1)\n",
    "total_spend = purchases.sum(axis=1)\n",
    "\n",
    "# Average spend per customer\n",
    "# average_spend = np.mean(purchases, axis=1)\n",
    "average_spend = purchases.mean(axis=1)\n",
    "\n",
    "print(\"Total spend per customer:\", total_spend)\n",
    "print(\"Average spend per customer:\", average_spend)\n",
    "print(\"Customer with max average spend:\", max(average_spend))"
   ]
  },
  {
   "cell_type": "code",
   "execution_count": null,
   "metadata": {},
   "outputs": [
    {
     "name": "stdout",
     "output_type": "stream",
     "text": [
      "Solution (x, y): [2.2 1.2]\n"
     ]
    }
   ],
   "source": [
    "# System of Linear Equation\n",
    "\n",
    "# 2x + 3y = 8\n",
    "# 4x + y = 10\n",
    "\n",
    "# Coefficients of variables\n",
    "A = np.array([[2, 3], [4, 1]])\n",
    "\n",
    "# Constants on the right-hand side\n",
    "B = np.array([8, 10])\n",
    "\n",
    "# Solve for x and y\n",
    "solution = np.linalg.solve(A, B)\n",
    "\n",
    "print(\"Solution (x, y):\", solution)"
   ]
  },
  {
   "cell_type": "code",
   "execution_count": null,
   "metadata": {},
   "outputs": [
    {
     "name": "stdout",
     "output_type": "stream",
     "text": [
      "Total sales: 15900\n",
      "Average sales: 1590.0\n",
      "Maximum sales: 2000\n",
      "Minimum sales: 1000\n",
      "Days where sales were above average: [1800 1900 1950 2000 1750]\n",
      "10% increase in sales: [1100. 1980. 1650. 1210. 2090. 1650. 2145. 2200. 1925. 1540.]\n",
      "Sorted sales: [1000 1100 1400 1500 1500 1750 1800 1900 1950 2000]\n"
     ]
    }
   ],
   "source": [
    "# Sales Assignment\n",
    "sales = np.array([1000, 1800, 1500, 1100, 1900, 1500, 1950, 2000, 1750, 1400])\n",
    "\n",
    "print(\"Total sales:\", sum(sales))\n",
    "print(\"Average sales:\", sales.mean())\n",
    "print(\"Maximum sales:\", max(sales))\n",
    "print(\"Minimum sales:\", min(sales))\n",
    "\n",
    "# Days where sales were above average\n",
    "sales_above_average = sales[sales > sales.mean()]\n",
    "print(\"Days where sales were above average:\", sales_above_average)\n",
    "\n",
    "# 10% increase in sales\n",
    "increased_sales = np.array(sales * 1.1)\n",
    "print(\"10% increase in sales:\", increased_sales)\n",
    "\n",
    "# Sort sales in ascending order\n",
    "sorted_sales = np.sort(sales)\n",
    "print(\"Sorted sales:\", sorted_sales)\n"
   ]
  },
  {
   "cell_type": "code",
   "execution_count": 31,
   "metadata": {},
   "outputs": [],
   "source": [
    "import pandas as pd \n",
    "\n",
    "df = pd.read_csv(\"Sales_Data.csv\")\n",
    "df.isnull ()\n",
    "df.fillna(0, inplace=True)"
   ]
  },
  {
   "cell_type": "code",
   "execution_count": 33,
   "metadata": {},
   "outputs": [],
   "source": [
    "df.duplicated()\n",
    "df.drop_duplicates(inplace=True)"
   ]
  },
  {
   "cell_type": "code",
   "execution_count": null,
   "metadata": {},
   "outputs": [
    {
     "data": {
      "text/plain": [
       "0   2024-02-01\n",
       "1   2024-02-02\n",
       "2   2024-02-03\n",
       "3   2024-02-04\n",
       "4   2024-02-05\n",
       "5   2024-02-06\n",
       "6   2024-02-07\n",
       "7   2024-02-08\n",
       "8   2024-02-09\n",
       "9   2024-02-10\n",
       "Name: Date, dtype: datetime64[ns]"
      ]
     },
     "execution_count": 34,
     "metadata": {},
     "output_type": "execute_result"
    }
   ],
   "source": [
    "pd.to_datetime(df['Date'])"
   ]
  },
  {
   "cell_type": "code",
   "execution_count": 39,
   "metadata": {},
   "outputs": [
    {
     "data": {
      "text/plain": [
       "Order_ID          int64\n",
       "Product          object\n",
       "Category         object\n",
       "Quantity          int64\n",
       "Price             int64\n",
       "Total_Amount    float64\n",
       "Date             object\n",
       "dtype: object"
      ]
     },
     "execution_count": 39,
     "metadata": {},
     "output_type": "execute_result"
    }
   ],
   "source": [
    "df['Quantity'] = df['Quantity'].astype(int)\n",
    "df.dtypes"
   ]
  },
  {
   "cell_type": "code",
   "execution_count": 40,
   "metadata": {},
   "outputs": [
    {
     "name": "stdout",
     "output_type": "stream",
     "text": [
      "Outliers: [100]\n"
     ]
    }
   ],
   "source": [
    "# Outlier removal using IQR method\n",
    "\n",
    "# Sample data with outlier\n",
    "data = np.array([10, 12, 14, 15, 18, 21, 25, 100])\n",
    "\n",
    "# Calculate Q1, Q3 and IQR\n",
    "Q1 = np.percentile(data, 25)\n",
    "Q3 = np.percentile(data, 75)\n",
    "IQR = Q3 - Q1\n",
    "\n",
    "# Define the bounds for outliers\n",
    "lower_bound = Q1 - 1.5 * IQR\n",
    "upper_bound = Q3 + 1.5 * IQR\n",
    "\n",
    "# Identify the outliers\n",
    "outliers = data[(data < lower_bound) | (data > upper_bound)]\n",
    "\n",
    "print(\"Outliers:\", outliers)"
   ]
  }
 ],
 "metadata": {
  "kernelspec": {
   "display_name": "Python 3",
   "language": "python",
   "name": "python3"
  },
  "language_info": {
   "codemirror_mode": {
    "name": "ipython",
    "version": 3
   },
   "file_extension": ".py",
   "mimetype": "text/x-python",
   "name": "python",
   "nbconvert_exporter": "python",
   "pygments_lexer": "ipython3",
   "version": "3.13.2"
  }
 },
 "nbformat": 4,
 "nbformat_minor": 2
}
